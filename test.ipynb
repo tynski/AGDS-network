{
 "cells": [
  {
   "cell_type": "code",
   "execution_count": 1,
   "metadata": {},
   "outputs": [],
   "source": [
    "from sklearn import datasets\n",
    "from AGDS import AGDS\n",
    "\n",
    "iris = datasets.load_iris()"
   ]
  },
  {
   "cell_type": "markdown",
   "metadata": {},
   "source": [
    "# Add data to structure\n",
    "Input will be placed into following dictionary: <br>\n",
    "{object name : [sepal_length,sepal_width, petal_length,petal_width,species]}"
   ]
  },
  {
   "cell_type": "code",
   "execution_count": 30,
   "metadata": {},
   "outputs": [
    {
     "name": "stdout",
     "output_type": "stream",
     "text": [
      "Example: 'R100': [6.3, 3.3, 6.0, 2.5, 2]\n"
     ]
    }
   ],
   "source": [
    "model = AGDS()\n",
    "model.add_flowers(iris)\n",
    "model.flowers \n",
    "print(\"Example: 'R100':\", model.flowers['R100'])"
   ]
  },
  {
   "cell_type": "markdown",
   "metadata": {},
   "source": [
    "# Associative transformation\n",
    "\n",
    "Transform input features into following dictionary {values, number of occurence}. It allow as to group data and avoid replication. Dictionaries were created for following features:<br>* sepal_length,<br>* sepal_width,<br>* petal_length,<br>* petal_width,<br>* species."
   ]
  },
  {
   "cell_type": "code",
   "execution_count": 31,
   "metadata": {},
   "outputs": [
    {
     "name": "stdout",
     "output_type": "stream",
     "text": [
      "Sepal_length\n",
      " 5.7: 8\n"
     ]
    }
   ],
   "source": [
    "model.add_params()\n",
    "model.sepal_length\n",
    "print('Sepal_length\\n 5.7:', model.sepal_length[5.7])"
   ]
  },
  {
   "cell_type": "markdown",
   "metadata": {},
   "source": [
    "# Weights and similarities\n",
    "Using associations  the list of all objects sorted by the similarity to the give object can be generated."
   ]
  },
  {
   "cell_type": "code",
   "execution_count": 32,
   "metadata": {},
   "outputs": [
    {
     "name": "stdout",
     "output_type": "stream",
     "text": [
      "Example: 'R4-R1': [0.972 0.75  1.    1.    1.   ]\n"
     ]
    }
   ],
   "source": [
    "given_flower = 'R4'\n",
    "weights = {}\n",
    "similarities = {}\n",
    "\n",
    "for flower in list(model.flowers.keys()):\n",
    "    similarity = model.compute_weights(given_flower, flower)\n",
    "    weights[given_flower + '-' + flower] = similarity\n",
    "    similarities[given_flower + '-' + flower] = sum(similarity)/5\n",
    "print(\"Example: 'R4-R1':\", weights['R4-R1'])"
   ]
  },
  {
   "cell_type": "code",
   "execution_count": 9,
   "metadata": {},
   "outputs": [
    {
     "data": {
      "text/plain": [
       "[('R4-R4', 1.0),\n",
       " ('R4-R0', 0.986),\n",
       " ('R4-R37', 0.986),\n",
       " ('R4-R7', 0.9800000000000001),\n",
       " ('R4-R40', 0.9798),\n",
       " ('R4-R17', 0.9776),\n",
       " ('R4-R27', 0.977),\n",
       " ('R4-R49', 0.975),\n",
       " ('R4-R39', 0.9743999999999999),\n",
       " ('R4-R28', 0.9722),\n",
       " ('R4-R48', 0.9716000000000001),\n",
       " ('R4-R46', 0.9710000000000001),\n",
       " ('R4-R10', 0.966),\n",
       " ('R4-R19', 0.966),\n",
       " ('R4-R21', 0.966),\n",
       " ('R4-R11', 0.9654),\n",
       " ('R4-R22', 0.9642),\n",
       " ('R4-R36', 0.9603999999999999),\n",
       " ('R4-R26', 0.96),\n",
       " ('R4-R35', 0.9597999999999999),\n",
       " ('R4-R24', 0.9551999999999999),\n",
       " ('R4-R6', 0.9528000000000001),\n",
       " ('R4-R43', 0.9513999999999999),\n",
       " ('R4-R20', 0.951),\n",
       " ('R4-R34', 0.9494),\n",
       " ('R4-R2', 0.9466000000000001),\n",
       " ('R4-R1', 0.9443999999999999),\n",
       " ('R4-R47', 0.9443999999999999),\n",
       " ('R4-R44', 0.9442),\n",
       " ('R4-R25', 0.9432),\n",
       " ('R4-R29', 0.9432),\n",
       " ('R4-R31', 0.9412),\n",
       " ('R4-R9', 0.9410000000000001),\n",
       " ('R4-R30', 0.9404),\n",
       " ('R4-R32', 0.9353999999999999),\n",
       " ('R4-R23', 0.9341999999999999),\n",
       " ('R4-R3', 0.9328),\n",
       " ('R4-R16', 0.9328),\n",
       " ('R4-R12', 0.9304),\n",
       " ('R4-R45', 0.9304),\n",
       " ('R4-R42', 0.9298),\n",
       " ('R4-R5', 0.9259999999999999),\n",
       " ('R4-R18', 0.9259999999999999),\n",
       " ('R4-R33', 0.9221999999999999),\n",
       " ('R4-R14', 0.9154),\n",
       " ('R4-R38', 0.9132),\n",
       " ('R4-R8', 0.9082000000000001),\n",
       " ('R4-R13', 0.8926000000000001),\n",
       " ('R4-R15', 0.8746),\n",
       " ('R4-R41', 0.852),\n",
       " ('R4-R98', 0.6736),\n",
       " ('R4-R57', 0.6634),\n",
       " ('R4-R93', 0.6606),\n",
       " ('R4-R64', 0.642),\n",
       " ('R4-R79', 0.64),\n",
       " ('R4-R88', 0.6334),\n",
       " ('R4-R95', 0.6327999999999999),\n",
       " ('R4-R59', 0.629),\n",
       " ('R4-R60', 0.6288),\n",
       " ('R4-R81', 0.6275999999999999),\n",
       " ('R4-R67', 0.6224000000000001),\n",
       " ('R4-R96', 0.6162000000000001),\n",
       " ('R4-R80', 0.6157999999999999),\n",
       " ('R4-R69', 0.6152),\n",
       " ('R4-R84', 0.6144000000000001),\n",
       " ('R4-R82', 0.6124),\n",
       " ('R4-R99', 0.6114),\n",
       " ('R4-R85', 0.6062),\n",
       " ('R4-R94', 0.6050000000000001),\n",
       " ('R4-R90', 0.6038),\n",
       " ('R4-R66', 0.6032),\n",
       " ('R4-R89', 0.6008000000000001),\n",
       " ('R4-R92', 0.6006),\n",
       " ('R4-R55', 0.5980000000000001),\n",
       " ('R4-R61', 0.5966),\n",
       " ('R4-R71', 0.5923999999999999),\n",
       " ('R4-R97', 0.585),\n",
       " ('R4-R53', 0.584),\n",
       " ('R4-R91', 0.5804),\n",
       " ('R4-R73', 0.577),\n",
       " ('R4-R51', 0.5754),\n",
       " ('R4-R56', 0.5744),\n",
       " ('R4-R74', 0.5738),\n",
       " ('R4-R62', 0.5730000000000001),\n",
       " ('R4-R78', 0.5726),\n",
       " ('R4-R63', 0.5686),\n",
       " ('R4-R70', 0.5680000000000001),\n",
       " ('R4-R65', 0.5624),\n",
       " ('R4-R75', 0.5596),\n",
       " ('R4-R58', 0.5528000000000001),\n",
       " ('R4-R86', 0.5438000000000001),\n",
       " ('R4-R50', 0.5436),\n",
       " ('R4-R54', 0.5332),\n",
       " ('R4-R83', 0.5274),\n",
       " ('R4-R87', 0.5262),\n",
       " ('R4-R52', 0.5258),\n",
       " ('R4-R76', 0.5182),\n",
       " ('R4-R72', 0.5092000000000001),\n",
       " ('R4-R77', 0.5086),\n",
       " ('R4-R68', 0.5034000000000001),\n",
       " ('R4-R106', 0.4728),\n",
       " ('R4-R138', 0.44580000000000003),\n",
       " ('R4-R149', 0.4412),\n",
       " ('R4-R127', 0.4368),\n",
       " ('R4-R121', 0.4314),\n",
       " ('R4-R133', 0.4274),\n",
       " ('R4-R126', 0.4182),\n",
       " ('R4-R101', 0.4136),\n",
       " ('R4-R142', 0.4136),\n",
       " ('R4-R134', 0.413),\n",
       " ('R4-R137', 0.4082),\n",
       " ('R4-R110', 0.40779999999999994),\n",
       " ('R4-R148', 0.4062),\n",
       " ('R4-R123', 0.4008),\n",
       " ('R4-R113', 0.3976),\n",
       " ('R4-R119', 0.3974),\n",
       " ('R4-R116', 0.3942),\n",
       " ('R4-R103', 0.3936),\n",
       " ('R4-R147', 0.38780000000000003),\n",
       " ('R4-R136', 0.3854),\n",
       " ('R4-R115', 0.3816),\n",
       " ('R4-R114', 0.3802),\n",
       " ('R4-R124', 0.37639999999999996),\n",
       " ('R4-R111', 0.3734),\n",
       " ('R4-R146', 0.37260000000000004),\n",
       " ('R4-R129', 0.362),\n",
       " ('R4-R139', 0.3588),\n",
       " ('R4-R100', 0.3552),\n",
       " ('R4-R125', 0.355),\n",
       " ('R4-R128', 0.3548),\n",
       " ('R4-R112', 0.35259999999999997),\n",
       " ('R4-R141', 0.3524),\n",
       " ('R4-R145', 0.3518),\n",
       " ('R4-R104', 0.3508),\n",
       " ('R4-R132', 0.3466),\n",
       " ('R4-R144', 0.3432),\n",
       " ('R4-R120', 0.3402),\n",
       " ('R4-R143', 0.33899999999999997),\n",
       " ('R4-R140', 0.3382),\n",
       " ('R4-R108', 0.33140000000000003),\n",
       " ('R4-R109', 0.32680000000000003),\n",
       " ('R4-R102', 0.32239999999999996),\n",
       " ('R4-R107', 0.3142),\n",
       " ('R4-R131', 0.3028),\n",
       " ('R4-R130', 0.29900000000000004),\n",
       " ('R4-R117', 0.2872),\n",
       " ('R4-R105', 0.271),\n",
       " ('R4-R135', 0.2656),\n",
       " ('R4-R122', 0.2538),\n",
       " ('R4-R118', 0.2052)]"
      ]
     },
     "execution_count": 9,
     "metadata": {},
     "output_type": "execute_result"
    }
   ],
   "source": [
    "sorted(similarities.items(), key = lambda kv: kv[1], reverse=True)"
   ]
  }
 ],
 "metadata": {
  "kernelspec": {
   "display_name": "Python 3",
   "language": "python",
   "name": "python3"
  },
  "language_info": {
   "codemirror_mode": {
    "name": "ipython",
    "version": 3
   },
   "file_extension": ".py",
   "mimetype": "text/x-python",
   "name": "python",
   "nbconvert_exporter": "python",
   "pygments_lexer": "ipython3",
   "version": "3.7.1"
  }
 },
 "nbformat": 4,
 "nbformat_minor": 2
}
