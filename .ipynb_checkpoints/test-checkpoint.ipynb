{
 "cells": [
  {
   "cell_type": "code",
   "execution_count": 17,
   "metadata": {},
   "outputs": [],
   "source": [
    "from sklearn import datasets"
   ]
  },
  {
   "cell_type": "code",
   "execution_count": null,
   "metadata": {},
   "outputs": [],
   "source": [
    "def countNumberFrequency(numberList):\n",
    "    valueandCount = {}\n",
    "    for newNumber in numberList:\n",
    "        if newNumber in valueandCount:\n",
    "            valueandCount[newNumber] += 1     \n",
    "        else:\n",
    "            valueandCount[newNumber] = 1\n",
    "    return valueandCount"
   ]
  },
  {
   "cell_type": "code",
   "execution_count": 34,
   "metadata": {},
   "outputs": [],
   "source": [
    "iris = datasets.load_iris()\n",
    "sepal_length = countNumberFrequency(sorted(iris.data[:,0]))\n",
    "sepal_width = countNumberFrequency(sorted(iris.data[:,1]))\n",
    "petal_length = countNumberFrequency(sorted(iris.data[:,2])) \n",
    "petal_width = countNumberFrequency(sorted(iris.data[:,3]))\n",
    "species = countNumberFrequency(iris.target)\n",
    "names = iris.target_names"
   ]
  },
  {
   "cell_type": "code",
   "execution_count": 40,
   "metadata": {},
   "outputs": [],
   "source": [
    "    flowers = {}\n",
    "    for i in range(len(iris.target)):\n",
    "        flowers['R'+str(i)] = [iris.data[:,0], iris.data[:,1], iris.data[:,2], iris.data[:,3]]"
   ]
  },
  {
   "cell_type": "code",
   "execution_count": 38,
   "metadata": {},
   "outputs": [
    {
     "data": {
      "text/plain": [
       "['tynski', 23]"
      ]
     },
     "execution_count": 38,
     "metadata": {},
     "output_type": "execute_result"
    }
   ],
   "source": [
    "d = {}\n",
    "d['Bartosz'] = ['tynski', 23]\n",
    "d['Bartosz']"
   ]
  },
  {
   "cell_type": "code",
   "execution_count": null,
   "metadata": {},
   "outputs": [],
   "source": []
  }
 ],
 "metadata": {
  "kernelspec": {
   "display_name": "Python 3",
   "language": "python",
   "name": "python3"
  },
  "language_info": {
   "codemirror_mode": {
    "name": "ipython",
    "version": 3
   },
   "file_extension": ".py",
   "mimetype": "text/x-python",
   "name": "python",
   "nbconvert_exporter": "python",
   "pygments_lexer": "ipython3",
   "version": "3.7.1"
  }
 },
 "nbformat": 4,
 "nbformat_minor": 2
}
